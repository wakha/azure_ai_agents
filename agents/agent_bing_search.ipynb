{
  "cells": [
    {
      "cell_type": "markdown",
      "metadata": {
        "id": "u-egiRMEGf1k"
      },
      "source": [
        "#Azure Agent for Grounding with Bing Search\n",
        "\n",
        "This tutorial demonstrates how to create and run a custom AI agent using Azure AI Projects, integrating Bing Search for real-time information retrieval. The agent is designed to ground its responses with up-to-date data from Bing, ensuring accurate and relevant answers to user queries.\n",
        "\n",
        "Key Features:\n",
        "\n",
        "* Utilizes Azure AI Projects to create an intelligent agent\n",
        "* Implements Bing Search grounding to fetch real-time information\n",
        "* Provides an interactive command-line interface for user interaction\n",
        "* Showcases integration of external tools with an AI agent"
      ]
    },
    {
      "cell_type": "markdown",
      "metadata": {
        "id": "5xboOQLyGs2O"
      },
      "source": [
        "#Prerequisites\n",
        "\n",
        "1. Create Grounding with Bing resouce in azure\n",
        "2. In your Azure AI Project, create a new Grounding with Bing search Connection to link it with Bing resource."
      ]
    },
    {
      "cell_type": "markdown",
      "metadata": {
        "id": "8H-IoyWQJRXP"
      },
      "source": [
        "![image.png](data:image/png;base64,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)"
      ]
    },
    {
      "cell_type": "code",
      "execution_count": 1,
      "metadata": {
        "colab": {
          "base_uri": "https://localhost:8080/"
        },
        "id": "5h15hSZs4nSH",
        "outputId": "5de3d850-2a1d-4ebe-bfae-00ccf68eaaf4"
      },
      "outputs": [],
      "source": [
        "# Installs the Azure AI Projects SDK and Azure Identity library for authentication\n",
        "#!pip install azure-ai-projects==1.0.0b8 azure-identity==1.21.0 load_dotenv"
      ]
    },
    {
      "cell_type": "code",
      "execution_count": 2,
      "metadata": {
        "colab": {
          "base_uri": "https://localhost:8080/"
        },
        "id": "IeEKzZ-iCN9a",
        "outputId": "5b0f6be6-f8d1-44f1-feea-ee47c9fc053f"
      },
      "outputs": [
        {
          "name": "stdout",
          "output_type": "stream",
          "text": [
            "\n"
          ]
        }
      ],
      "source": [
        "#Configure environment variables for Azure AI Project and Bing Search integration.\n",
        "\n",
        "import os\n",
        "from dotenv import load_dotenv\n",
        "load_dotenv('agents.env')\n",
        "CLIENT_ID = os.getenv(\"CLIENT_ID\")\n",
        "CLIENT_SECRET = os.getenv(\"CLIENT_SECRET\")\n",
        "TENANT_ID = os.getenv(\"TENANT_ID\")\n",
        "PROJECT_ENDPOINT = os.getenv(\"PROJECT_ENDPOINT\")\n",
        "BING_CONNECTION_NAME = os.getenv(\"BING_CONNECTION_NAME\")\n",
        "print(BING_CONNECTION_NAME)"
      ]
    },
    {
      "cell_type": "code",
      "execution_count": null,
      "metadata": {
        "colab": {
          "base_uri": "https://localhost:8080/"
        },
        "id": "UMNipsj8CW-H",
        "outputId": "01f77ccd-b9cb-4810-f4a2-a9312a3513f6"
      },
      "outputs": [
        {
          "name": "stdout",
          "output_type": "stream",
          "text": [
            "Connection ID: /subscriptions/95717284-5de1-45e3-a461-5fe0db848584/resourceGroups/aoairg/providers/Microsoft.MachineLearningServices/workspaces/azure-ai-project-for-agent/connections/websearchcoding\n",
            "Created agent, ID: asst_gZtQGMZqQIcXOVnqH7CfnCB3\n",
            "Created thread, ID: thread_FxtzcR4eCRMUl5l4JdtcRft2\n",
            "User: give latest news\n",
            "Run finished with status: RunStatus.COMPLETED\n",
            "Agent: Some of today's major news stories include closures of 112 Joann fabric stores across the U.S. and ongoing coverage of Russia’s drone barrage in Ukraine, following remarks by President Trump on Putin’s peace commitments【3:0†source】【3:4†source】. Let me know if you'd like specific details about any topic!\n",
            "User: end\n",
            "Ending the conversation.\n",
            "Conversation ended\n"
          ]
        }
      ],
      "source": [
        "import os\n",
        "from azure.ai.projects import AIProjectClient\n",
        "from azure.identity import ClientSecretCredential\n",
        "from azure.ai.agents.models import BingGroundingTool\n",
        "\n",
        "# Configure Azure credentials\n",
        "credential = ClientSecretCredential(\n",
        "    tenant_id=os.getenv(\"TENANT_ID\"),\n",
        "    client_id=os.getenv(\"CLIENT_ID\"),\n",
        "    client_secret=os.getenv(\"CLIENT_SECRET\")\n",
        ")\n",
        "\n",
        "# Initialize Azure AI Project Client\n",
        "project_client = AIProjectClient(\n",
        "    credential=credential, endpoint=os.getenv(\"PROJECT_ENDPOINT\")\n",
        ")\n",
        "\n",
        "# Get Bing Search resource connection ID\n",
        "bing_connection = project_client.connections.get(\n",
        "    connection_name=os.getenv(\"BING_CONNECTION_NAME\")\n",
        ")\n",
        "conn_id = bing_connection.id\n",
        "print(f\"Connection ID: {conn_id}\")\n",
        "\n",
        "# Initialize Bing grounding tool\n",
        "bing = BingGroundingTool(connection_id=conn_id)\n",
        "\n",
        "# Create the AI agent\n",
        "agent = project_client.agents.create_agent(\n",
        "    model=os.environ[\"MODEL_DEPLOYMENT_NAME\"],\n",
        "    name=\"My-Agent-for-Bing-Coding\",\n",
        "    instructions=\"You are a helpful assistant\",\n",
        "    tools=bing.definitions,\n",
        "    headers={\"x-ms-enable-preview\": \"true\"}\n",
        ")\n",
        "print(f\"Created agent, ID: {agent.id}\")\n",
        "\n",
        "# Create a conversation thread\n",
        "thread = project_client.agents.threads.create()\n",
        "print(f\"Created thread, ID: {thread.id}\")\n",
        "\n",
        "# Interactive conversation loop\n",
        "while True:\n",
        "    user_input = input(\"User: \")\n",
        "    if user_input.lower() == \"end\":\n",
        "        project_client.agents.delete_agent(agent.id)\n",
        "        print(\"Ending the conversation.\")\n",
        "        break\n",
        "\n",
        "    # Send user message to the agent\n",
        "    message = project_client.agents.messages.create(\n",
        "        thread_id=thread.id,\n",
        "        role=\"user\",\n",
        "        content=user_input,\n",
        "    )\n",
        "\n",
        "    # Process the agent's run\n",
        "    run = project_client.agents.runs.create_and_process(thread_id=thread.id, agent_id=agent.id)\n",
        "    print(f\"Run finished with status: {run.status}\")\n",
        "\n",
        "    if run.status == \"failed\":\n",
        "        print(f\"Run failed: {run.last_error}\")\n",
        "        break\n",
        "\n",
        "    # Retrieve and display agent's response\n",
        "    latest_message = next(msg for msg in project_client.agents.messages.list(thread_id=thread.id) if msg.role == \"assistant\")\n",
        "    if agent_response := next((content.text.value for content in latest_message.content if content.type == \"text\"), None):\n",
        "        print(f\"Agent: {agent_response}\")\n",
        "\n",
        "print(\"Conversation ended\")"
      ]
    },
    {
      "cell_type": "code",
      "execution_count": null,
      "metadata": {
        "id": "UDOVPHrUyp06"
      },
      "outputs": [],
      "source": []
    }
  ],
  "metadata": {
    "colab": {
      "provenance": []
    },
    "kernelspec": {
      "display_name": "Python 3",
      "name": "python3"
    },
    "language_info": {
      "codemirror_mode": {
        "name": "ipython",
        "version": 3
      },
      "file_extension": ".py",
      "mimetype": "text/x-python",
      "name": "python",
      "nbconvert_exporter": "python",
      "pygments_lexer": "ipython3",
      "version": "3.12.0"
    }
  },
  "nbformat": 4,
  "nbformat_minor": 0
}
