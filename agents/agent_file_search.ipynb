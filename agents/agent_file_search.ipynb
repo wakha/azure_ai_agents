{
  "cells": [
    {
      "cell_type": "markdown",
      "metadata": {
        "id": "qgyrhkVDXyV5"
      },
      "source": [
        "**Azure AI Agent with File Search Tool**\n",
        "\n",
        "\n",
        "This Python script demonstrates how to set up an Azure AI Agent with a File Search Tool, enabling it to process user queries and retrieve relevant information from uploaded documents.\n",
        "\n",
        "Key Features:\n",
        "\n",
        "* Uploading files to create a vector store for search and retrieval.\n",
        "* Creating an AI agent powered by GPT-4o-mini with integration of File search tool\n",
        "* Setting up a conversation thread to interact with the agent dynamically.\n",
        "* Attaching files to messages for content-based responses.\n",
        "* Processing user queries with the agent and retrieving responses."
      ]
    },
    {
      "cell_type": "markdown",
      "metadata": {
        "id": "aSnl5WMXB67y"
      },
      "source": [
        "![image.png](data:image/png;base64,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)"
      ]
    },
    {
      "cell_type": "code",
      "execution_count": 1,
      "metadata": {
        "colab": {
          "base_uri": "https://localhost:8080/"
        },
        "id": "7040fVwbU9aY",
        "outputId": "ee84c66a-1368-413e-9252-c38bcc369d0c"
      },
      "outputs": [],
      "source": [
        "# Installs the Azure AI Projects SDK and Azure Identity library for authentication\n",
        "#!pip install azure-ai-projects==1.0.0b10 azure-identity==1.21.0 load_dotenv"
      ]
    },
    {
      "cell_type": "code",
      "execution_count": 2,
      "metadata": {
        "colab": {
          "base_uri": "https://localhost:8080/"
        },
        "id": "AYD0Q703YtBu",
        "outputId": "80efd896-382f-49d8-e728-25232141c63e"
      },
      "outputs": [
        {
          "name": "stdout",
          "output_type": "stream",
          "text": [
            "https://waqkh-mgawgzn2-eastus2.services.ai.azure.com/api/projects/waqkh-mgawgzn2-eastus2_project\n"
          ]
        }
      ],
      "source": [
        "#Configure environment variables for Azure AI Project\n",
        "import os\n",
        "from dotenv import load_dotenv\n",
        "load_dotenv('agents.env')\n",
        "CLIENT_ID = os.getenv(\"CLIENT_ID\")\n",
        "CLIENT_SECRET = os.getenv(\"CLIENT_SECRET\")\n",
        "TENANT_ID = os.getenv(\"TENANT_ID\")\n",
        "PROJECT_ENDPOINT = os.getenv(\"PROJECT_ENDPOINT\")\n",
        "print(PROJECT_ENDPOINT)"
      ]
    },
    {
      "cell_type": "markdown",
      "metadata": {
        "id": "wHMHjm9FEZrA"
      },
      "source": []
    },
    {
      "cell_type": "code",
      "execution_count": null,
      "metadata": {
        "colab": {
          "base_uri": "https://localhost:8080/",
          "height": 908
        },
        "id": "TEBu_qNZYyNk",
        "outputId": "3e260a35-ffd1-4d7d-9cb5-cd1290b1028e"
      },
      "outputs": [
        {
          "name": "stdout",
          "output_type": "stream",
          "text": [
            "Uploaded file, file ID: assistant-TQntKEySbW9R6Ktxe7xuZ5\n",
            "Created vector store, vector store ID: vs_WUqq6nSfsAqTOWvkjDY1IZ7M\n",
            "Created agent, agent ID: asst_ojBd4hQ7LfWSFuy7ZxPtoKQN\n",
            "Created thread, thread ID: thread_aNVRFibYi27pTczLsoxPqK9H\n",
            "Agent: Here are the main key points identified in the data:\n",
            "\n",
            "1. **Insecure Password Hashing**: The code utilizes MD5 for hashing passwords, which is considered insecure due to vulnerability to collision attacks and speed, making it easier for attackers to perform brute force attacks. Using bcrypt or Argon2 is recommended for improved security【4:0†source】.\n",
            "\n",
            "2. **SQL Injection Vulnerability**: The code is susceptible to SQL injection as the \"fetch\" function constructs an SQL query using string concatenation with unsanitized user input. To mitigate this risk, using parameterized queries or prepared statements is advised【4:0†source】.\n",
            "\n",
            "3. **Hardcoded JWT Secret Key**: The JWT secret key is hardcoded in the \"loginHandler\" function, which is not a recommended practice for security. Storing the secret key securely, such as in an environment variable or a configuration file, is a better approach【4:1†source】.\n",
            "\n",
            "4. **Sentiment from Incel Perspective**: The data mentions that, from an incel's perspective, women are often seen as the root of issues, considered privileged in relationships and dating with preferences towards high-status and physically attractive men. Women are sometimes viewed as selfish, shallow, and unempathetic according to incels【4:4†source】.\n",
            "\n",
            "If you need further details or clarifications on these points, feel free to ask!\n",
            "Deleted vector store\n",
            "Ending the conversation.\n"
          ]
        }
      ],
      "source": [
        "import os\n",
        "from azure.ai.projects import AIProjectClient\n",
        "from azure.ai.agents.models import FileSearchTool, MessageAttachment, FilePurpose\n",
        "from azure.identity import ClientSecretCredential\n",
        "\n",
        "# Configure Azure credentials\n",
        "credential = ClientSecretCredential(\n",
        "    tenant_id=os.getenv(\"TENANT_ID\"),\n",
        "    client_id=os.getenv(\"CLIENT_ID\"),\n",
        "    client_secret=os.getenv(\"CLIENT_SECRET\")\n",
        ")\n",
        "\n",
        "# Initialize Azure AI Project Client\n",
        "project_client = AIProjectClient(\n",
        "    credential=credential, endpoint=os.getenv(\"PROJECT_ENDPOINT\")\n",
        ")\n",
        "\n",
        "# Upload a file for vector store creation\n",
        "file = project_client.agents.files.upload_and_poll(file_path='../data/gpt-4-system-card.pdf', purpose=FilePurpose.AGENTS)\n",
        "print(f\"Uploaded file, file ID: {file.id}\")\n",
        "\n",
        "# Create a vector store\n",
        "vector_store = project_client.agents.vector_stores.create_and_poll(file_ids=[file.id], name=\"my_vectorstore\")\n",
        "print(f\"Created vector store, vector store ID: {vector_store.id}\")\n",
        "\n",
        "# Create a file search tool\n",
        "file_search_tool = FileSearchTool(vector_store_ids=[vector_store.id])\n",
        "\n",
        "# Create an AI agent\n",
        "agent = project_client.agents.create_agent(\n",
        "    model=os.environ[\"MODEL_DEPLOYMENT_NAME\"],\n",
        "    name=\"my-agent-file-searches\",\n",
        "    instructions=\"You are a helpful agent for File Search , RAG and keep responses to only uploaded file\",\n",
        "    tools=file_search_tool.definitions,\n",
        "    tool_resources=file_search_tool.resources,\n",
        ")\n",
        "print(f\"Created agent, agent ID: {agent.id}\")\n",
        "\n",
        "# Create a conversation thread\n",
        "thread = project_client.agents.threads.create()\n",
        "print(f\"Created thread, thread ID: {thread.id}\")\n",
        "\n",
        "# Interactive conversation loop\n",
        "while True:\n",
        "    user_input = input(\"User: \")\n",
        "    if user_input.lower() == \"end\":\n",
        "        project_client.agents.vector_stores.delete(vector_store.id)\n",
        "        print(\"Deleted vector store\")\n",
        "        project_client.agents.delete_agent(agent.id)\n",
        "        print(\"Deleted the agent\")\n",
        "        print(\"Ending the conversation.\")\n",
        "        break\n",
        "\n",
        "    # Upload file as message attachment\n",
        "    message_file = project_client.agents.files.upload_and_poll(file_path='../data/gpt-4-system-card.pdf', purpose=FilePurpose.AGENTS)\n",
        "    attachment = MessageAttachment(file_id=message_file.id, tools=FileSearchTool().definitions)\n",
        "\n",
        "    # Create a message\n",
        "    message = project_client.agents.messages.create(\n",
        "        thread_id=thread.id, role=\"user\", content=user_input, attachments=[attachment]\n",
        "    )\n",
        "\n",
        "    # Process the agent's response\n",
        "    run = project_client.agents.runs.create_and_process(thread_id=thread.id, agent_id=agent.id)\n",
        "\n",
        "    if run.status == \"failed\":\n",
        "        print(f\"Run failed: {run.last_error}\")\n",
        "        break\n",
        "\n",
        "    # Retrieve and display messages\n",
        "    latest_message = next(msg for msg in project_client.agents.messages.list(thread_id=thread.id) if msg.role == \"assistant\")\n",
        "    if agent_response := next((content.text.value for content in latest_message.content if content.type == \"text\"), None):\n",
        "        print(f\"Agent: {agent_response}\")"
      ]
    },
    {
      "cell_type": "code",
      "execution_count": null,
      "metadata": {
        "id": "1ctJ4VqWcdzY"
      },
      "outputs": [],
      "source": []
    }
  ],
  "metadata": {
    "colab": {
      "provenance": []
    },
    "kernelspec": {
      "display_name": "Python 3",
      "name": "python3"
    },
    "language_info": {
      "codemirror_mode": {
        "name": "ipython",
        "version": 3
      },
      "file_extension": ".py",
      "mimetype": "text/x-python",
      "name": "python",
      "nbconvert_exporter": "python",
      "pygments_lexer": "ipython3",
      "version": "3.12.0"
    }
  },
  "nbformat": 4,
  "nbformat_minor": 0
}
