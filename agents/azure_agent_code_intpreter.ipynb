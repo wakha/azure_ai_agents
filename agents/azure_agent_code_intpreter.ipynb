{
  "cells": [
    {
      "cell_type": "markdown",
      "metadata": {
        "id": "4eSXK9dL21Zi"
      },
      "source": [
        "#Creating and Running an Agent with Azure AI Projects\n",
        "\n",
        "In this tutorial, we will walk through the steps to create and interact with a custom AI agent using Azure AI Projects. By leveraging Azure’s agent and tool functionality, we can enhance the capabilities of language models, enabling them to perform specific tasks and respond with real-time data or complex logic. The workflow includes creating an agent, configuring it with tools like a code interpreter, interacting with the agent, and handling messages, responses, and file outputs.\n",
        "\n",
        "The key steps involve:\n",
        "\n",
        "1. Setting up the environment and credentials\n",
        "2. Creating an AI agent with CodeInterpreterTool\n",
        "3. Managing conversation threads and messages\n",
        "4. Processing agent responses, including saving files and handling errors\n",
        "5. Deleting the agent once done\n",
        "\n"
      ]
    },
    {
      "cell_type": "markdown",
      "metadata": {
        "id": "-aOEq4wR8XPw"
      },
      "source": [
        "![image.png](data:image/png;base64,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)"
      ]
    },
    {
      "cell_type": "code",
      "execution_count": 1,
      "metadata": {
        "colab": {
          "base_uri": "https://localhost:8080/"
        },
        "id": "PanxrY3TBo3E",
        "outputId": "1b97a1f7-0297-4d6a-ae46-44d4bc485465"
      },
      "outputs": [],
      "source": [
        "#!pip install azure-ai-projects==1.0.0b8 azure-identity==1.21.0 load_dotenv"
      ]
    },
    {
      "cell_type": "code",
      "execution_count": 1,
      "metadata": {
        "colab": {
          "base_uri": "https://localhost:8080/"
        },
        "id": "O1-i6RuX1PzW",
        "outputId": "c50eb9c6-21a4-4344-eed2-27af13b5a812"
      },
      "outputs": [
        {
          "name": "stdout",
          "output_type": "stream",
          "text": [
            "eastus.api.azureml.ms;3affd6bf-159d-49f9-b568-79234a2bba60;rg-ai-hub;waqkh-6568\n"
          ]
        }
      ],
      "source": [
        "# Set up your environment variables for the Azure OpenAI endpoint and API key.\n",
        "\n",
        "import os\n",
        "from dotenv import load_dotenv\n",
        "load_dotenv('agents_2.env')\n",
        "CLIENT_ID = os.getenv(\"CLIENT_ID\")\n",
        "CLIENT_SECRET = os.getenv(\"CLIENT_SECRET\")\n",
        "TENANT_ID = os.getenv(\"TENANT_ID\")\n",
        "PROJECT_CONNECTION_STRING = os.getenv(\"PROJECT_ENDPOINT\")\n",
        "print(PROJECT_CONNECTION_STRING)\n",
        "\n"
      ]
    },
    {
      "cell_type": "code",
      "execution_count": 3,
      "metadata": {
        "id": "AWSkL-br3owe"
      },
      "outputs": [],
      "source": [
        "# Set Up Azure Resources: Create and configure your Azure AI Hub, AI project, and related resources (e.g., AI Services, Storage)."
      ]
    },
    {
      "cell_type": "code",
      "execution_count": null,
      "metadata": {
        "colab": {
          "base_uri": "https://localhost:8080/"
        },
        "id": "88HEG-qHBp9H",
        "outputId": "4a26987c-fec2-4743-a062-6d891638611a"
      },
      "outputs": [
        {
          "ename": "AttributeError",
          "evalue": "type object 'AIProjectClient' has no attribute 'from_connection_string'",
          "output_type": "error",
          "traceback": [
            "\u001b[31m---------------------------------------------------------------------------\u001b[39m",
            "\u001b[31mAttributeError\u001b[39m                            Traceback (most recent call last)",
            "\u001b[36mCell\u001b[39m\u001b[36m \u001b[39m\u001b[32mIn[2]\u001b[39m\u001b[32m, line 15\u001b[39m\n\u001b[32m      9\u001b[39m \u001b[38;5;66;03m# Authenticate and initialize client\u001b[39;00m\n\u001b[32m     10\u001b[39m credential = ClientSecretCredential(\n\u001b[32m     11\u001b[39m     tenant_id=os.getenv(\u001b[33m\"\u001b[39m\u001b[33mTENANT_ID\u001b[39m\u001b[33m\"\u001b[39m),\n\u001b[32m     12\u001b[39m     client_id=os.getenv(\u001b[33m\"\u001b[39m\u001b[33mCLIENT_ID\u001b[39m\u001b[33m\"\u001b[39m),\n\u001b[32m     13\u001b[39m     client_secret=os.getenv(\u001b[33m\"\u001b[39m\u001b[33mCLIENT_SECRET\u001b[39m\u001b[33m\"\u001b[39m)\n\u001b[32m     14\u001b[39m )\n\u001b[32m---> \u001b[39m\u001b[32m15\u001b[39m project_client = \u001b[43mAIProjectClient\u001b[49m\u001b[43m.\u001b[49m\u001b[43mfrom_connection_string\u001b[49m(\n\u001b[32m     16\u001b[39m         conn_str=os.environ[\u001b[33m\"\u001b[39m\u001b[33mPROJECT_ENDPOINT\u001b[39m\u001b[33m\"\u001b[39m] ,\n\u001b[32m     17\u001b[39m         credential=credential,  \u001b[38;5;66;03m# Use Azure Default Credential for authentication\u001b[39;00m\n\u001b[32m     18\u001b[39m     )\n\u001b[32m     20\u001b[39m \u001b[38;5;66;03m# Upload file\u001b[39;00m\n\u001b[32m     21\u001b[39m file = project_client.agents.files.upload_and_poll(\n\u001b[32m     22\u001b[39m     file_path=\u001b[33m\"\u001b[39m\u001b[33m../data/sales_data.csv\u001b[39m\u001b[33m\"\u001b[39m, \n\u001b[32m     23\u001b[39m     purpose=FilePurpose.AGENTS\n\u001b[32m     24\u001b[39m )\n",
            "\u001b[31mAttributeError\u001b[39m: type object 'AIProjectClient' has no attribute 'from_connection_string'"
          ]
        }
      ],
      "source": [
        "\n",
        "# Authentication / Uploading File / Create Agent / Create Thread\n",
        "\n",
        "import os\n",
        "from azure.ai.projects import AIProjectClient\n",
        "from azure.ai.agents.models import CodeInterpreterTool, FilePurpose\n",
        "from azure.identity import ClientSecretCredential\n",
        "from pathlib import Path\n",
        "\n",
        "# Authenticate and initialize client\n",
        "credential = ClientSecretCredential(\n",
        "    tenant_id=os.getenv(\"TENANT_ID\"),\n",
        "    client_id=os.getenv(\"CLIENT_ID\"),\n",
        "    client_secret=os.getenv(\"CLIENT_SECRET\")\n",
        ")\n",
        "project_client = AIProjectClient(\n",
        "        endpoint=os.environ[\"PROJECT_ENDPOINT\"] ,\n",
        "        credential=credential,  # Use Azure Default Credential for authentication\n",
        "    )\n",
        "\n",
        "# Upload file\n",
        "file = project_client.agents.files.upload_and_poll(\n",
        "    file_path=\"../data/sales_data.csv\", \n",
        "    purpose=FilePurpose.AGENTS\n",
        ")\n",
        "print(f\"Uploaded file, file ID: {file.id}\")\n",
        "\n",
        "# Create agent and interact\n",
        "with project_client:\n",
        "    agent = project_client.agents.create_agent(\n",
        "        model=os.environ[\"MODEL_DEPLOYMENT_NAME\"],  # Model deployment name\n",
        "        name=\"my-agent-for-code-interpreter\",\n",
        "        instructions=\"You are a helpful agent that perform Data Analysis and Visualiation\",\n",
        "        tools=CodeInterpreterTool(file_ids=[file.id]).definitions,\n",
        "        tool_resources=CodeInterpreterTool(file_ids=[file.id]).resources\n",
        "    )\n",
        "    print(f\"Created agent, agent ID: {agent.id}\")\n",
        "\n",
        "    thread = project_client.agents.threads.create()\n",
        "    print(f\"Created thread, thread ID: {thread.id}\")\n",
        "\n",
        "    while True:\n",
        "        if (user_message := input(\"User: \")).lower() == \"end\":\n",
        "            print(\"Ending conversation.\")\n",
        "            break\n",
        "\n",
        "        message = project_client.agents.messages.create(\n",
        "            thread_id=thread.id,\n",
        "            role=\"user\",  # Role of the message sender\n",
        "            content=user_message,  # Message content\n",
        "        )\n",
        "\n",
        "        # Process the agent's run\n",
        "        run = project_client.agents.runs.create_and_process(\n",
        "            thread_id=thread.id,\n",
        "            agent_id=agent.id,\n",
        "        )\n",
        "        print(f\"Run finished with status: {run.status}\")\n",
        "\n",
        "        if run.status == \"failed\":\n",
        "            print(f\"Run failed: {run.last_error}\")\n",
        "\n",
        "        latest_message = next(msg for msg in project_client.agents.messages.list(thread_id=thread.id) if msg.role == \"assistant\")\n",
        "        if agent_response := next((content.text.value for content in latest_message.content if content.type == \"text\"), None):\n",
        "            print(f\"Agent: {agent_response}\")\n",
        "\n",
        "        for content in latest_message.content:\n",
        "            if content.type == \"image_file\":\n",
        "                file_name = f\"{content.image_file.file_id}_image_file.png\"\n",
        "                file_id = content.image_file.file_id\n",
        "                project_client.agents.files.save(file_id=file_id, file_name=file_name)\n",
        "                print(f\"Saved image file to: {Path.cwd() / file_name}\")\n",
        "\n",
        "    project_client.agents.delete_agent(agent.id)\n",
        "    print(\"Deleted agent\")\n"
      ]
    }
  ],
  "metadata": {
    "colab": {
      "provenance": []
    },
    "kernelspec": {
      "display_name": "Python 3",
      "name": "python3"
    },
    "language_info": {
      "codemirror_mode": {
        "name": "ipython",
        "version": 3
      },
      "file_extension": ".py",
      "mimetype": "text/x-python",
      "name": "python",
      "nbconvert_exporter": "python",
      "pygments_lexer": "ipython3",
      "version": "3.12.0"
    }
  },
  "nbformat": 4,
  "nbformat_minor": 0
}
